{
 "cells": [
  {
   "cell_type": "markdown",
   "metadata": {},
   "source": [
    "# Overview of Jupyter Notebooks for the CITE Architecture\n",
    "\n",
    "A list of Jupyter notebooks in this repository for working with libraries and data, grouped by topic. The notebooks accompany a series of [blog posts on the CITE Architecture]().\n",
    "\n",
    "\n",
    "## CITE Architecture\n",
    "\n",
    "- [Getting a DSE Vector](cite/dse-vec.ipynb)\n"
   ]
  },
  {
   "cell_type": "code",
   "execution_count": null,
   "metadata": {},
   "outputs": [],
   "source": []
  }
 ],
 "metadata": {
  "kernelspec": {
   "display_name": "Scala",
   "language": "scala",
   "name": "scala"
  },
  "language_info": {
   "codemirror_mode": "text/x-scala",
   "file_extension": ".scala",
   "mimetype": "text/x-scala",
   "name": "scala",
   "nbconvert_exporter": "script",
   "version": "2.12.10"
  }
 },
 "nbformat": 4,
 "nbformat_minor": 2
}
