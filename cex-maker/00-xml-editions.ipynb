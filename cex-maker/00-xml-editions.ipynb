{
 "cells": [
  {
   "cell_type": "markdown",
   "metadata": {},
   "source": [
    "# Serialize XML to CEX\n"
   ]
  },
  {
   "cell_type": "markdown",
   "metadata": {},
   "source": [
    "## Configuring CITE libraries for almond kernel\n",
    "\n",
    "First, we'll make a bintray repository with CITE libraries available to your almond kernel."
   ]
  },
  {
   "cell_type": "code",
   "execution_count": 27,
   "metadata": {},
   "outputs": [
    {
     "data": {
      "text/plain": [
       "\u001b[36mmyBT\u001b[39m: \u001b[32mcoursierapi\u001b[39m.\u001b[32mMavenRepository\u001b[39m = MavenRepository(https://dl.bintray.com/neelsmith/maven)"
      ]
     },
     "execution_count": 27,
     "metadata": {},
     "output_type": "execute_result"
    }
   ],
   "source": [
    "val myBT = coursierapi.MavenRepository.of(\"https://dl.bintray.com/neelsmith/maven\")\n",
    "interp.repositories() ++= Seq(myBT)"
   ]
  },
  {
   "cell_type": "markdown",
   "metadata": {},
   "source": [
    "Next, we bring in specific libraries from the new repository using almond's `$ivy` magic:"
   ]
  },
  {
   "cell_type": "code",
   "execution_count": 28,
   "metadata": {},
   "outputs": [
    {
     "data": {
      "text/plain": [
       "\u001b[32mimport \u001b[39m\u001b[36m$ivy.$                                  \n",
       "\u001b[39m\n",
       "\u001b[32mimport \u001b[39m\u001b[36m$ivy.$                                     \n",
       "\u001b[39m\n",
       "\u001b[32mimport \u001b[39m\u001b[36m$ivy.$                              \n",
       "\u001b[39m\n",
       "\u001b[32mimport \u001b[39m\u001b[36m$ivy.$                              \n",
       "\u001b[39m\n",
       "\u001b[32mimport \u001b[39m\u001b[36m$ivy.$                                          \n",
       "\u001b[39m\n",
       "\u001b[32mimport \u001b[39m\u001b[36m$ivy.$                                  \n",
       "\u001b[39m\n",
       "\u001b[32mimport \u001b[39m\u001b[36m$ivy.$                                        \n",
       "\u001b[39m\n",
       "\u001b[32mimport \u001b[39m\u001b[36m$ivy.$                              \n",
       "\u001b[39m"
      ]
     },
     "execution_count": 28,
     "metadata": {},
     "output_type": "execute_result"
    }
   ],
   "source": [
    "import $ivy.`edu.holycross.shot::ohco2:10.16.0`\n",
    "import $ivy.`edu.holycross.shot.cite::xcite:4.1.1`\n",
    "import $ivy.`edu.holycross.shot::scm:7.2.0`\n",
    "import $ivy.`edu.holycross.shot::dse:5.2.2`\n",
    "import $ivy.`edu.holycross.shot::citebinaryimage:3.1.1`\n",
    "import $ivy.`edu.holycross.shot::citeobj:7.3.4`\n",
    "import $ivy.`edu.holycross.shot::citerelations:2.5.2`\n",
    "import $ivy.`edu.holycross.shot::cex:6.3.3`\n"
   ]
  },
  {
   "cell_type": "markdown",
   "metadata": {},
   "source": [
    "## Imports\n",
    "\n",
    "From this point on, your notebook consists of completely generic Scala, with the CITE Libraries available to use."
   ]
  },
  {
   "cell_type": "code",
   "execution_count": 29,
   "metadata": {},
   "outputs": [
    {
     "data": {
      "text/plain": [
       "\u001b[32mimport \u001b[39m\u001b[36medu.holycross.shot.cite._\n",
       "\u001b[39m\n",
       "\u001b[32mimport \u001b[39m\u001b[36medu.holycross.shot.ohco2._\n",
       "\u001b[39m\n",
       "\u001b[32mimport \u001b[39m\u001b[36medu.holycross.shot.scm._\n",
       "\u001b[39m\n",
       "\u001b[32mimport \u001b[39m\u001b[36medu.holycross.shot.citeobj._\n",
       "\u001b[39m\n",
       "\u001b[32mimport \u001b[39m\u001b[36medu.holycross.shot.citerelation._\n",
       "\u001b[39m\n",
       "\u001b[32mimport \u001b[39m\u001b[36medu.holycross.shot.dse._\n",
       "\u001b[39m\n",
       "\u001b[32mimport \u001b[39m\u001b[36medu.holycross.shot.citebinaryimage._\n",
       "\u001b[39m\n",
       "\u001b[32mimport \u001b[39m\u001b[36medu.holycross.shot.ohco2._\n",
       "\n",
       "// Import some other stuff\n",
       "\u001b[39m\n",
       "\u001b[32mimport \u001b[39m\u001b[36mscala.xml.XML\n",
       "\n",
       "\u001b[39m\n",
       "\u001b[32mimport \u001b[39m\u001b[36malmond.display.UpdatableDisplay\n",
       "\u001b[39m\n",
       "\u001b[32mimport \u001b[39m\u001b[36malmond.interpreter.api.DisplayData.ContentType\n",
       "\u001b[39m\n",
       "\u001b[32mimport \u001b[39m\u001b[36malmond.interpreter.api.{DisplayData, OutputHandler}\n",
       "\n",
       "\u001b[39m\n",
       "\u001b[32mimport \u001b[39m\u001b[36mjava.io.File\n",
       "\u001b[39m\n",
       "\u001b[32mimport \u001b[39m\u001b[36mjava.io.PrintWriter\n",
       "\n",
       "\u001b[39m\n",
       "\u001b[32mimport \u001b[39m\u001b[36mscala.io.Source\u001b[39m"
      ]
     },
     "execution_count": 29,
     "metadata": {},
     "output_type": "execute_result"
    }
   ],
   "source": [
    "// Import some CITE libraries\n",
    "import edu.holycross.shot.cite._\n",
    "import edu.holycross.shot.ohco2._\n",
    "import edu.holycross.shot.scm._\n",
    "import edu.holycross.shot.citeobj._\n",
    "import edu.holycross.shot.citerelation._\n",
    "import edu.holycross.shot.dse._\n",
    "import edu.holycross.shot.citebinaryimage._\n",
    "import edu.holycross.shot.ohco2._\n",
    "\n",
    "// Import some other stuff\n",
    "import scala.xml.XML\n",
    "\n",
    "import almond.display.UpdatableDisplay\n",
    "import almond.interpreter.api.DisplayData.ContentType\n",
    "import almond.interpreter.api.{DisplayData, OutputHandler}\n",
    "\n",
    "import java.io.File\n",
    "import java.io.PrintWriter\n",
    "\n",
    "import scala.io.Source"
   ]
  },
  {
   "cell_type": "markdown",
   "metadata": {},
   "source": [
    "## Useful Functions\n",
    "\n",
    "Save a String"
   ]
  },
  {
   "cell_type": "code",
   "execution_count": 30,
   "metadata": {},
   "outputs": [
    {
     "data": {
      "text/plain": [
       "defined \u001b[32mfunction\u001b[39m \u001b[36msaveString\u001b[39m"
      ]
     },
     "execution_count": 30,
     "metadata": {},
     "output_type": "execute_result"
    }
   ],
   "source": [
    "def saveString(s:String, filePath:String = \"\", fileName:String = \"temp.txt\"):Unit = {\n",
    "\t\t val writer = new PrintWriter(new File(s\"${filePath}${fileName}\"))\n",
    "         writer.write(s)\n",
    "         writer.close()\n",
    "\t}"
   ]
  },
  {
   "cell_type": "markdown",
   "metadata": {},
   "source": [
    "Pretty Print many things:"
   ]
  },
  {
   "cell_type": "code",
   "execution_count": 31,
   "metadata": {},
   "outputs": [
    {
     "data": {
      "text/plain": [
       "defined \u001b[32mfunction\u001b[39m \u001b[36mshowMe\u001b[39m"
      ]
     },
     "execution_count": 31,
     "metadata": {},
     "output_type": "execute_result"
    }
   ],
   "source": [
    "def showMe(v:Any):Unit = {\n",
    "  v match {\n",
    "    case _:StringHistogram => {\n",
    "        for ( h <- v.asInstanceOf[StringHistogram].histogram ) {\n",
    "            println(s\"${h.count}\\t${h.s}\")\n",
    "        }\n",
    "    }\n",
    "  \tcase _:Corpus => {\n",
    "  \t\tfor ( n <- v.asInstanceOf[Corpus].nodes) {\n",
    "  \t\t\tprintln(s\"${n.urn.passageComponent}\\t\\t${n.text}\")\n",
    "  \t\t}\t\n",
    "  \t}\n",
    "    case _:Vector[Any] => println(s\"\"\"\\n----\\n${v.asInstanceOf[Vector[Any]].mkString(\"\\n\")}\\n----\\n\"\"\")\n",
    "    case _:Iterable[Any] => println(s\"\"\"\\n----\\n${v.asInstanceOf[Iterable[Any]].mkString(\"\\n\")}\\n----\\n\"\"\")\n",
    "    case _ => println(s\"\\n-----\\n${v}\\n----\\n\")\n",
    "  }\n",
    "}"
   ]
  },
  {
   "cell_type": "markdown",
   "metadata": {},
   "source": [
    "## Load Some Template Information"
   ]
  },
  {
   "cell_type": "code",
   "execution_count": 32,
   "metadata": {},
   "outputs": [
    {
     "data": {
      "text/plain": [
       "\u001b[36mcexCatalogTemplatePath\u001b[39m: \u001b[32mString\u001b[39m = \u001b[32m\"../data/cex_template.cex\"\u001b[39m\n",
       "\u001b[36mrawCexTemplateString\u001b[39m: \u001b[32mString\u001b[39m = \u001b[32m\"\"\"// \n",
       "\n",
       "#!cexversion\n",
       "3.0\n",
       "\n",
       "#!citelibrary\n",
       "name#CEX_DESC_GOES_HERE\n",
       "urn#CEX_URN_GOES_HERE\n",
       "license#CC Share Alike.  For details, see more info.\n",
       "\n",
       "\"\"\"\u001b[39m\n",
       "\u001b[36mbasicCatalogDesc\u001b[39m: \u001b[32mString\u001b[39m = \u001b[32m\"Demonstration CEX of Benjamin of Tudela\\u2019s Itineraries. XML Editions\"\u001b[39m\n",
       "\u001b[36mbasicCatalogUrn\u001b[39m: \u001b[32mCite2Urn\u001b[39m = \u001b[33mCite2Urn\u001b[39m(\n",
       "  \u001b[32m\"urn:cite2:fu_elijah:cexCatalogs.2021a:bot_plainText_editions\"\u001b[39m\n",
       ")\n",
       "\u001b[36mcexTemplateString\u001b[39m: \u001b[32mString\u001b[39m = \u001b[32m\"\"\"// \n",
       "\n",
       "#!cexversion\n",
       "3.0\n",
       "\n",
       "#!citelibrary\n",
       "name#Demonstration CEX of Benjamin of Tudela’s Itineraries. XML Editions\n",
       "urn#urn:cite2:fu_elijah:cexCatalogs.2021a:bot_plainText_editions\n",
       "license#CC Share Alike.  For details, see more info.\n",
       "\n",
       "\"\"\"\u001b[39m\n",
       "\u001b[36mcexPath\u001b[39m: \u001b[32mString\u001b[39m = \u001b[32m\"../BoT_CEX/\"\u001b[39m\n",
       "\u001b[36mcexXmlArchivalFileName\u001b[39m: \u001b[32mString\u001b[39m = \u001b[32m\"BoT_XML.cex\"\u001b[39m\n",
       "\u001b[36mcexXmlDisplayFileName\u001b[39m: \u001b[32mString\u001b[39m = \u001b[32m\"BoT_XML_display.cex\"\u001b[39m"
      ]
     },
     "execution_count": 32,
     "metadata": {},
     "output_type": "execute_result"
    }
   ],
   "source": [
    "val cexCatalogTemplatePath: String = \"../data/cex_template.cex\"\n",
    "\n",
    "// Get it as a String\n",
    "\n",
    "val rawCexTemplateString: String = scala.io.Source.fromFile(cexCatalogTemplatePath).mkString\n",
    "\n",
    "// Give it a valid URN\n",
    "\n",
    "val basicCatalogDesc: String = \"Demonstration CEX of Benjamin of Tudela’s Itineraries. XML Editions\"\n",
    "\n",
    "val basicCatalogUrn: Cite2Urn = Cite2Urn(\"urn:cite2:fu_elijah:cexCatalogs.2021a:bot_plainText_editions\")\n",
    "\n",
    "val cexTemplateString = rawCexTemplateString\n",
    "            .replaceAll(\"CEX_URN_GOES_HERE\",basicCatalogUrn.toString)\n",
    "            .replaceAll(\"CEX_DESC_GOES_HERE\", basicCatalogDesc)\n",
    "\n",
    "val cexPath: String = \"../BoT_CEX/\"\n",
    "\n",
    "val cexXmlArchivalFileName: String = \"BoT_XML.cex\"\n",
    "\n",
    "val cexXmlDisplayFileName: String = \"BoT_XML_display.cex\""
   ]
  },
  {
   "cell_type": "markdown",
   "metadata": {},
   "source": [
    "## Set Up for Working With Base XML Files\n",
    "\n",
    "We will set up to be able to iterate through the master XML files. We need two catalog entries for each XML file, because each contains two texts, and Introduction and the Itinerary.\n",
    "\n",
    "Class `CatalogEntry` is part of the CITE OHCO2 library: <https://cite-architecture.github.io/cite-api-docs/ohco2/api/edu/holycross/shot/ohco2/CatalogEntry.html>."
   ]
  },
  {
   "cell_type": "code",
   "execution_count": 33,
   "metadata": {},
   "outputs": [
    {
     "data": {
      "text/plain": [
       "defined \u001b[32mclass\u001b[39m \u001b[36mTextVersion\u001b[39m\n",
       "\u001b[36mengXml\u001b[39m: \u001b[32mTextVersion\u001b[39m = \u001b[33mTextVersion\u001b[39m(\n",
       "  \u001b[32m\"../data/BTAdler20210419.xml\"\u001b[39m,\n",
       "  \u001b[33mCatalogEntry\u001b[39m(\n",
       "    \u001b[33mCtsUrn\u001b[39m(\u001b[32m\"urn:cts:elijahlab:benTud.itin.englishXml:\"\u001b[39m),\n",
       "    \u001b[32m\"geographic narrative / section\"\u001b[39m,\n",
       "    \u001b[32m\"eng\"\u001b[39m,\n",
       "    \u001b[32m\"Benjamin of Tudela\"\u001b[39m,\n",
       "    \u001b[32m\"Itineraries\"\u001b[39m,\n",
       "    \u001b[33mSome\u001b[39m(\n",
       "      \u001b[32m\"English translation, XML. Marcus Nathan Adler, The Itinerary of Benjamin of Tudela, Critical Text, Translation and Commentary. London 1907, as made available in Project Gutenberg, https://www.gutenberg.org/files/14981/14981-h/14981-h.htm \"\u001b[39m\n",
       "    ),\n",
       "    \u001b[32mNone\u001b[39m,\n",
       "    true\n",
       "  ),\n",
       "  \u001b[33mCatalogEntry\u001b[39m(\n",
       "    \u001b[33mCtsUrn\u001b[39m(\u001b[32m\"urn:cts:elijahlab:benTud.itinIntro.englishXml:\"\u001b[39m),\n",
       "    \u001b[32m\"head, body\"\u001b[39m,\n",
       "    \u001b[32m\"eng\"\u001b[39m,\n",
       "    \u001b[32m\"Benjamin of Tudela\"\u001b[39m,\n",
       "    \u001b[32m\"Introduction to the Itineraries\"\u001b[39m,\n",
       "    \u001b[33mSome\u001b[39m(\n",
       "      \u001b[32m\"English translation, XML. Marcus Nathan Adler, The Itinerary of Benjamin of Tudela, Critical Text, Translation and Commentary. London 1907, as made available in Project Gutenberg, https://www.gutenberg.org/files/14981/14981-h/14981-h.htm \"\u001b[39m\n",
       "    ),\n",
       "    \u001b[32mNone\u001b[39m,\n",
       "    true\n",
       "  )\n",
       ")\n",
       "\u001b[36mhebXml\u001b[39m: \u001b[32mTextVersion\u001b[39m = \u001b[33mTextVersion\u001b[39m(\n",
       "  \u001b[32m\"../data/BTAsher20210429.xml\"\u001b[39m,\n",
       "  \u001b[33mCatalogEntry\u001b[39m(\n",
       "    \u001b[33mCtsUrn\u001b[39m(\u001b[32m\"urn:cts:elijahlab:benTud.itin.hebrewXml:\"\u001b[39m),\n",
       "    \u001b[32m\"geographic narrative / section\"\u001b[39m,\n",
       "    \u001b[32m\"heb\"\u001b[39m,\n",
       "    \u001b[32m\"Benjamin of Tudela\"\u001b[39m,\n",
       "    \u001b[32m\"Itineraries\"\u001b[39m,\n",
       "    \u001b[33mSome\u001b[39m(\n",
       "      \u001b[32m\"Hebrew edition, XML. Abraham Asher, The Itinerary of Rabbi Benjamin of Tudela. London-Berlin 1840-1841. Vol. 1\"\u001b[39m\n",
       "    ),\n",
       "    \u001b[32mNone\u001b[39m,\n",
       "    true\n",
       "  ),\n",
       "  \u001b[33mCatalogEntry\u001b[39m(\n",
       "    \u001b[33mCtsUrn\u001b[39m(\u001b[32m\"urn:cts:elijahlab:benTud.itinIntro.hebrewXml:\"\u001b[39m),\n",
       "    \u001b[32m\"head, body\"\u001b[39m,\n",
       "    \u001b[32m\"heb\"\u001b[39m,\n",
       "    \u001b[32m\"Benjamin of Tudela\"\u001b[39m,\n",
       "    \u001b[32m\"Introduction to the Itineraries\"\u001b[39m,\n",
       "    \u001b[33mSome\u001b[39m(\n",
       "      \u001b[32m\"Hebrew edition, XML. Abraham Asher, The Itinerary of Rabbi Benjamin of Tudela. London-Berlin 1840-1841. Vol. 1\"\u001b[39m\n",
       "    ),\n",
       "    \u001b[32mNone\u001b[39m,\n",
       "    true\n",
       "  )\n",
       ")\n",
       "\u001b[36maraXml\u001b[39m: \u001b[32mTextVersion\u001b[39m = \u001b[33mTextVersion\u001b[39m(\n",
       "  \u001b[32m\"../data/BTHaddad20210425.xml\"\u001b[39m,\n",
       "  \u001b[33mCatalogEntry\u001b[39m(\n",
       "    \u001b[33mCtsUrn\u001b[39m(\u001b[32m\"urn:cts:elijahlab:benTud.itin.arabicXml:\"\u001b[39m),\n",
       "    \u001b[32m\"geographic narrative / section\"\u001b[39m,\n",
       "    \u001b[32m\"eng\"\u001b[39m,\n",
       "    \u001b[32m\"Benjamin of Tudela\"\u001b[39m,\n",
       "    \u001b[32m\"Itineraries\"\u001b[39m,\n",
       "    \u001b[33mSome\u001b[39m(\n",
       "      \u001b[32m\"Arabic translation, XML. Translated from the Hebrew original, with Introduction, Notes and Appendixes By Ezra H. Haddad, Baghdad 1945\"\u001b[39m\n",
       "    ),\n",
       "    \u001b[32mNone\u001b[39m,\n",
       "    true\n",
       "  ),\n",
       "  \u001b[33mCatalogEntry\u001b[39m(\n",
       "    \u001b[33mCtsUrn\u001b[39m(\u001b[32m\"urn:cts:elijahlab:benTud.itinIntro.arabicXml:\"\u001b[39m),\n",
       "    \u001b[32m\"head, body\"\u001b[39m,\n",
       "    \u001b[32m\"heb\"\u001b[39m,\n",
       "    \u001b[32m\"Benjamin of Tudela\"\u001b[39m,\n",
       "    \u001b[32m\"Introduction to the Itineraries\"\u001b[39m,\n",
       "    \u001b[33mSome\u001b[39m(\n",
       "      \u001b[32m\"Arabic translation, XML. Translated from the Hebrew original, with Introduction, Notes and Appendixes By Ezra H. Haddad, Baghdad 1945\"\u001b[39m\n",
       "    ),\n",
       "    \u001b[32mNone\u001b[39m,\n",
       "    true\n",
       "  )\n",
       ")\n",
       "\u001b[36mtextVec\u001b[39m: \u001b[32mVector\u001b[39m[\u001b[32mTextVersion\u001b[39m] = \u001b[33mVector\u001b[39m(\n",
       "  \u001b[33mTextVersion\u001b[39m(\n",
       "    \u001b[32m\"../data/BTAdler20210419.xml\"\u001b[39m,\n",
       "    \u001b[33mCatalogEntry\u001b[39m(\n",
       "      \u001b[33mCtsUrn\u001b[39m(\u001b[32m\"urn:cts:elijahlab:benTud.itin.englishXml:\"\u001b[39m),\n",
       "      \u001b[32m\"geographic narrative / section\"\u001b[39m,\n",
       "      \u001b[32m\"eng\"\u001b[39m,\n",
       "      \u001b[32m\"Benjamin of Tudela\"\u001b[39m,\n",
       "      \u001b[32m\"Itineraries\"\u001b[39m,\n",
       "      \u001b[33mSome\u001b[39m(\n",
       "        \u001b[32m\"English translation, XML. Marcus Nathan Adler, The Itinerary of Benjamin of Tudela, Critical Text, Translation and Commentary. London 1907, as made available in Project Gutenberg, https://www.gutenberg.org/files/14981/14981-h/14981-h.htm \"\u001b[39m\n",
       "      ),\n",
       "      \u001b[32mNone\u001b[39m,\n",
       "      true\n",
       "    ),\n",
       "    \u001b[33mCatalogEntry\u001b[39m(\n",
       "      \u001b[33mCtsUrn\u001b[39m(\u001b[32m\"urn:cts:elijahlab:benTud.itinIntro.englishXml:\"\u001b[39m),\n",
       "      \u001b[32m\"head, body\"\u001b[39m,\n",
       "      \u001b[32m\"eng\"\u001b[39m,\n",
       "      \u001b[32m\"Benjamin of Tudela\"\u001b[39m,\n",
       "      \u001b[32m\"Introduction to the Itineraries\"\u001b[39m,\n",
       "      \u001b[33mSome\u001b[39m(\n",
       "        \u001b[32m\"English translation, XML. Marcus Nathan Adler, The Itinerary of Benjamin of Tudela, Critical Text, Translation and Commentary. London 1907, as made available in Project Gutenberg, https://www.gutenberg.org/files/14981/14981-h/14981-h.htm \"\u001b[39m\n",
       "      ),\n",
       "      \u001b[32mNone\u001b[39m,\n",
       "      true\n",
       "    )\n",
       "  ),\n",
       "  \u001b[33mTextVersion\u001b[39m(\n",
       "    \u001b[32m\"../data/BTAsher20210429.xml\"\u001b[39m,\n",
       "    \u001b[33mCatalogEntry\u001b[39m(\n",
       "      \u001b[33mCtsUrn\u001b[39m(\u001b[32m\"urn:cts:elijahlab:benTud.itin.hebrewXml:\"\u001b[39m),\n",
       "      \u001b[32m\"geographic narrative / section\"\u001b[39m,\n",
       "..."
      ]
     },
     "execution_count": 33,
     "metadata": {},
     "output_type": "execute_result"
    }
   ],
   "source": [
    "case class TextVersion(\n",
    "    path: String,\n",
    "    mainCatalogEntry: CatalogEntry, \n",
    "    introCatalogEntry: CatalogEntry\n",
    ")\n",
    "\n",
    "\n",
    "val engXml =  TextVersion(\n",
    "    path = \"../data/BTAdler20210419.xml\",\n",
    "    mainCatalogEntry = CatalogEntry(\n",
    "        urn = CtsUrn(\"urn:cts:elijahlab:benTud.itin.englishXml:\"),\n",
    "        citationScheme = \"geographic narrative / section\",\n",
    "        lang = \"eng\",\n",
    "        groupName = \"Benjamin of Tudela\",\n",
    "        workTitle = \"Itineraries\",\n",
    "        versionLabel = Some(\"English translation, XML. Marcus Nathan Adler, The Itinerary of Benjamin of Tudela, Critical Text, Translation and Commentary. London 1907, as made available in Project Gutenberg, https://www.gutenberg.org/files/14981/14981-h/14981-h.htm \"),\n",
    "        exemplarLabel = None,\n",
    "        online = true\n",
    "    ),\n",
    "    introCatalogEntry = CatalogEntry(\n",
    "        urn = CtsUrn(\"urn:cts:elijahlab:benTud.itinIntro.englishXml:\"),\n",
    "        citationScheme = \"head, body\",\n",
    "        lang = \"eng\",\n",
    "        groupName = \"Benjamin of Tudela\",\n",
    "        workTitle = \"Introduction to the Itineraries\",\n",
    "        versionLabel = Some(\"English translation, XML. Marcus Nathan Adler, The Itinerary of Benjamin of Tudela, Critical Text, Translation and Commentary. London 1907, as made available in Project Gutenberg, https://www.gutenberg.org/files/14981/14981-h/14981-h.htm \"),\n",
    "        exemplarLabel = None,\n",
    "        online = true\n",
    "    )\n",
    ")\n",
    "\n",
    "val hebXml = TextVersion(\n",
    "    path = \"../data/BTAsher20210429.xml\",\n",
    "    mainCatalogEntry = CatalogEntry(\n",
    "        urn = CtsUrn(\"urn:cts:elijahlab:benTud.itin.hebrewXml:\"),\n",
    "        citationScheme = \"geographic narrative / section\",\n",
    "        lang = \"heb\",\n",
    "        groupName = \"Benjamin of Tudela\",\n",
    "        workTitle = \"Itineraries\",\n",
    "        versionLabel = Some(\"Hebrew edition, XML. Abraham Asher, The Itinerary of Rabbi Benjamin of Tudela. London-Berlin 1840-1841. Vol. 1\"),\n",
    "        exemplarLabel = None,\n",
    "        online = true\n",
    "    ),\n",
    "    introCatalogEntry = CatalogEntry(\n",
    "        urn = CtsUrn(\"urn:cts:elijahlab:benTud.itinIntro.hebrewXml:\"),\n",
    "        citationScheme = \"head, body\",\n",
    "        lang = \"heb\",\n",
    "        groupName = \"Benjamin of Tudela\",\n",
    "        workTitle = \"Introduction to the Itineraries\",\n",
    "        versionLabel = Some(\"Hebrew edition, XML. Abraham Asher, The Itinerary of Rabbi Benjamin of Tudela. London-Berlin 1840-1841. Vol. 1\"),\n",
    "        exemplarLabel = None,\n",
    "        online = true\n",
    "    )\n",
    ")\n",
    "\n",
    "val araXml =  TextVersion(\n",
    "    path = \"../data/BTHaddad20210425.xml\",\n",
    "    mainCatalogEntry = CatalogEntry(\n",
    "        urn = CtsUrn(\"urn:cts:elijahlab:benTud.itin.arabicXml:\"),\n",
    "        citationScheme = \"geographic narrative / section\",\n",
    "        lang = \"eng\",\n",
    "        groupName = \"Benjamin of Tudela\",\n",
    "        workTitle = \"Itineraries\",\n",
    "        versionLabel = Some(\"Arabic translation, XML. Translated from the Hebrew original, with Introduction, Notes and Appendixes By Ezra H. Haddad, Baghdad 1945\"),\n",
    "        exemplarLabel = None,\n",
    "        online = true\n",
    "    ),\n",
    "    introCatalogEntry = CatalogEntry(\n",
    "        urn = CtsUrn(\"urn:cts:elijahlab:benTud.itinIntro.arabicXml:\"),\n",
    "        citationScheme = \"head, body\",\n",
    "        lang = \"heb\",\n",
    "        groupName = \"Benjamin of Tudela\",\n",
    "        workTitle = \"Introduction to the Itineraries\",\n",
    "        versionLabel = Some(\"Arabic translation, XML. Translated from the Hebrew original, with Introduction, Notes and Appendixes By Ezra H. Haddad, Baghdad 1945\"),\n",
    "        exemplarLabel = None,\n",
    "        online = true\n",
    "    )\n",
    "\n",
    ")\n",
    "\n",
    "// We'll throw those into a Vector so we can iterate across them.\n",
    "\n",
    "val textVec: Vector[TextVersion] = Vector(engXml, hebXml, araXml)\n",
    "\n",
    "\n",
    "\n"
   ]
  },
  {
   "cell_type": "markdown",
   "metadata": {},
   "source": [
    "## Load XML"
   ]
  },
  {
   "cell_type": "code",
   "execution_count": 34,
   "metadata": {},
   "outputs": [
    {
     "data": {
      "text/plain": [
       "\u001b[36mengTemplatePath\u001b[39m: \u001b[32mString\u001b[39m = \u001b[32m\"../data/BTAdler20210419.xml\"\u001b[39m\n",
       "\u001b[36mengXml\u001b[39m: \u001b[32mxml\u001b[39m.\u001b[32mElem\u001b[39m = <TEI xmlns=\"http://www.tei-c.org/ns/1.0\">\n",
       "   <teiHeader>\n",
       "      <fileDesc>\n",
       "         <titleStmt>\n",
       "            <title><persName xml:id=\"recogito-be8535af-1af8-4169-9717-6d69a9caee34\">Benjamin</persName> of Tudela</title>\n",
       "         </titleStmt>\n",
       "         <publicationStmt>\n",
       "            <p>Publication Information</p>\n",
       "         </publicationStmt>\n",
       "         <sourceDesc>\n",
       "            <listPlace>\n",
       "               <place type=\"point\" xml:id=\"K6347\">\n",
       "                  <location>\n",
       "                     <geo>41.65606 -0.87734</geo>\n",
       "                  </location>\n",
       "                  <idno type=\"URI\">http://geo-kima.org/Place/6347</idno>\n",
       "               </place>\n",
       "               <place type=\"line\" xml:id=\"GN3123754\">\n",
       "                  <idno type=\"URI\">https://www.geonames.org/3123754/</idno>\n",
       "               </place>\n",
       "               <place type=\"point\" xml:id=\"K9805\">\n",
       "                  <location>\n",
       "                     <geo>40.815111 0.523778</geo>\n",
       "                  </location>\n",
       "                  <idno type=\"URI\">http://geo-kima.org/place/9805</idno>\n",
       "               </place>\n",
       "               <place type=\"point\" xml:id=\"K7559\">\n",
       "                  <location>\n",
       "                     <geo>41.119196 1.258058</geo>\n",
       "                  </location>\n",
       "                  <idno type=\"URI\">http://geo-kima.org/place/7559</idno>\n",
       "               </place>\n",
       "               <place type=\"polygon\" xml:id=\"K6471\">\n",
       "                  <idno type=\"URI\">http://geo-kima.org/place/6471</idno>\n",
       "               </place>\n",
       "               <place type=\"point\" xml:id=\"K582\">\n",
       "                  <location>\n",
       "                     <geo>41.384106 2.175422</geo>\n",
       "..."
      ]
     },
     "execution_count": 34,
     "metadata": {},
     "output_type": "execute_result"
    }
   ],
   "source": [
    "val engTemplatePath: String = \"../data/BTAdler20210419.xml\"\n",
    "\n",
    "\n",
    "val engXml: xml.Elem = XML.loadFile(engTemplatePath)\n"
   ]
  },
  {
   "cell_type": "markdown",
   "metadata": {},
   "source": [
    "## Process the Texts"
   ]
  },
  {
   "cell_type": "markdown",
   "metadata": {},
   "source": [
    "### A Method for Creating a Catalog Entry"
   ]
  },
  {
   "cell_type": "code",
   "execution_count": 35,
   "metadata": {},
   "outputs": [
    {
     "data": {
      "text/plain": [
       "defined \u001b[32mfunction\u001b[39m \u001b[36mprocessCatalogEntry\u001b[39m"
      ]
     },
     "execution_count": 35,
     "metadata": {},
     "output_type": "execute_result"
    }
   ],
   "source": [
    "def processCatalogEntry( tv: TextVersion ): String = {\n",
    "    val txt: String = {\n",
    "        tv.mainCatalogEntry.cex(\"#\")\n",
    "    }\n",
    "    val intro: String = {\n",
    "        tv.introCatalogEntry.cex(\"#\")\n",
    "    }\n",
    "    txt + \"\\n\" + intro\n",
    "}"
   ]
  },
  {
   "cell_type": "markdown",
   "metadata": {},
   "source": [
    "### A Method for Processing Intros"
   ]
  },
  {
   "cell_type": "markdown",
   "metadata": {},
   "source": [
    "First, a method for sanitizing nodes…\n",
    "\n",
    "… what do we want to remove?\n",
    "\n",
    "For starters, we replace return-characters and tabs with spaces, and we make sure there are no \"#\" signs in the text itself, since that is our CEX delimiter.\n"
   ]
  },
  {
   "cell_type": "code",
   "execution_count": 36,
   "metadata": {},
   "outputs": [
    {
     "data": {
      "text/plain": [
       "defined \u001b[32mfunction\u001b[39m \u001b[36msanitizeNode\u001b[39m"
      ]
     },
     "execution_count": 36,
     "metadata": {},
     "output_type": "execute_result"
    }
   ],
   "source": [
    "def sanitizeNode(n: xml.Node, wrapped: Boolean): String = {\n",
    "    if (wrapped) {\n",
    "        n.toString.replaceAll(\"[\\n\\t#]\", \" \").replaceAll(\" +\", \" \")\n",
    "    } else {\n",
    "        n.toString.replaceAll(\"[\\n\\t#]\", \" \").replaceAll(\" +\", \" \").replaceAll(\"^<[^>]+>\",\"\").replaceAll(\"<[^>]+>$\",\"\")\n",
    "    }\n",
    "}"
   ]
  },
  {
   "cell_type": "markdown",
   "metadata": {},
   "source": [
    "Now on to processing…"
   ]
  },
  {
   "cell_type": "code",
   "execution_count": 37,
   "metadata": {},
   "outputs": [
    {
     "data": {
      "text/plain": [
       "defined \u001b[32mfunction\u001b[39m \u001b[36mprocessIntro\u001b[39m"
      ]
     },
     "execution_count": 37,
     "metadata": {},
     "output_type": "execute_result"
    }
   ],
   "source": [
    "\n",
    "def processIntro(tv: TextVersion, wrapped: Boolean): String = {\n",
    "    val thisText: TextVersion = tv\n",
    "    \n",
    "    // Suck in the whole XML\n",
    "    val allXml: xml.Elem = XML.loadFile(thisText.path)\n",
    "    \n",
    "    // Get a NodeSeq of the <front> element\n",
    "    val front: xml.NodeSeq = allXml \\\\ \"front\"\n",
    "\n",
    "    // A little sanity check… there should be only one…\n",
    "    assert(front.size == 1)\n",
    "\n",
    "    // Filter out everything but <head> and <ab> elements\n",
    "    val keepers: Vector[String] = Vector(\"head\", \"ab\")\n",
    "    val introElements: xml.NodeSeq = front.head.child.filter(n => {\n",
    "        keepers.contains(n.label)\n",
    "    })\n",
    "        \n",
    "    // Sanity Check… there should be only two elements left\n",
    "    assert(introElements.size == 2)\n",
    " \n",
    "\n",
    "    val introCex: String = introElements.zipWithIndex.toVector.map( t => {\n",
    "        val newUrn = thisText.introCatalogEntry.urn.addPassage(t._2.toString)\n",
    "        val newText = sanitizeNode(t._1, wrapped)\n",
    "        newUrn.toString + \"#\" + newText\n",
    "    }).mkString(\"\\n\")\n",
    "                                                             \n",
    "      \"\\n\\n#!ctsdata\\n\" + introCex // return it!                                                      \n",
    "\n",
    "}\n",
    "\n"
   ]
  },
  {
   "cell_type": "markdown",
   "metadata": {},
   "source": [
    "### A Method for Processing the Main Texts"
   ]
  },
  {
   "cell_type": "code",
   "execution_count": 38,
   "metadata": {},
   "outputs": [
    {
     "data": {
      "text/plain": [
       "defined \u001b[32mfunction\u001b[39m \u001b[36midToCitation\u001b[39m\n",
       "defined \u001b[32mfunction\u001b[39m \u001b[36mprocessSeg\u001b[39m\n",
       "defined \u001b[32mfunction\u001b[39m \u001b[36mprocessMain\u001b[39m"
      ]
     },
     "execution_count": 38,
     "metadata": {},
     "output_type": "execute_result"
    }
   ],
   "source": [
    "def idToCitation( n: xml.Node ): String = {\n",
    "    val citeAttr: String = (n.attributes.head.value.toString).replaceAll(\"GN\",\"\").replaceAll(\"S\",\".\")\n",
    "\n",
    "    //println(citeAttr)\n",
    "    citeAttr\n",
    "    \n",
    "}\n",
    "\n",
    "def processSeg( n: xml.Node, u: CtsUrn, tl: String, wrapped: Boolean ): String = {\n",
    "    \n",
    "    val segs: xml.NodeSeq = n \\\\ \"seg\"\n",
    "    \n",
    "    val stringVec: Vector[String] = segs.zipWithIndex.map( s => {\n",
    "        val segN: String = (s._2 + 1).toString\n",
    "        //val newPassage: String = tl + \".\" + segN\n",
    "        val newPassage: String = idToCitation(s._1)\n",
    "        val newUrn: CtsUrn = u.addPassage(newPassage)\n",
    "        val newText: String = sanitizeNode(s._1, wrapped)\n",
    "        newUrn.toString + \"#\" + newText\n",
    "    }).toVector\n",
    "    \n",
    "    stringVec.mkString(\"\\n\")\n",
    "}\n",
    "\n",
    "def processMain(tv: TextVersion, wrapped: Boolean): String = {\n",
    "    val thisText: TextVersion = tv\n",
    "    \n",
    "    // Suck in the whole XML\n",
    "    val allXml: xml.Elem = XML.loadFile(thisText.path)\n",
    "    \n",
    "    // Get a NodeSeq of the <front> element\n",
    "    val body: xml.NodeSeq = allXml \\\\ \"body\"\n",
    "\n",
    "    // A little sanity check… there should be only one…\n",
    "    assert(body.size == 1)\n",
    "\n",
    "    // Filter out everything but <head> and <ab> elements\n",
    "    val keepers: Vector[String] = Vector(\"ab\")\n",
    "    val mainElements: xml.NodeSeq = body.head.child.filter(n => {\n",
    "        keepers.contains(n.label)\n",
    "    })\n",
    "        \n",
    "    \n",
    "\n",
    "\n",
    "    val mainCex: String = mainElements.zipWithIndex.toVector.map( t => {\n",
    "        val newTopLevel: String = (t._2 + 1).toString\n",
    "                    \n",
    "        val thisUrn: CtsUrn = thisText.mainCatalogEntry.urn\n",
    "        processSeg( t._1, thisUrn, newTopLevel, wrapped)\n",
    "    }).mkString(\"\\n\")\n",
    "                                                             \n",
    "      \"\\n\\n#!ctsdata\\n\" + mainCex + \"\\n\\n\" // return it!                                                      \n",
    "\n",
    "}\n",
    "\n"
   ]
  },
  {
   "cell_type": "markdown",
   "metadata": {},
   "source": [
    "## Do It! (Twice)\n",
    "\n",
    "We actually want two XML editions of our texts. One will be for further processing, with each `citableNode` being well-formed XML (wrapped in a single root element). But, specific to this project and to the current state of the CITE tools, we want another with *internal* XML tags present in each `citableNode`, but without being wrapped in an XML element. \n",
    "\n",
    "Why? It has to do with how CITE-App determines whether a `citableNode`'s text-content is a left-to-right orthography or a right-to-left orthography. Currently, it (dumbly) grabs the first ten characters of a passage, and if any of them are in the Hebrew, Arabic, or Persian blocks of Unicode, it declares the whole passage RTL. There is probably a better way to do that, but here we are.\n",
    "\n",
    "So this will build out two CEX files, one named whatever `cexArchivalFileName` is set to, above, and another named whatever `cexXmlDisplayFileName` is set to, above."
   ]
  },
  {
   "cell_type": "code",
   "execution_count": 39,
   "metadata": {},
   "outputs": [
    {
     "data": {
      "text/plain": [
       "defined \u001b[32mfunction\u001b[39m \u001b[36mmakeXmlEdition\u001b[39m"
      ]
     },
     "execution_count": 39,
     "metadata": {},
     "output_type": "execute_result"
    }
   ],
   "source": [
    "def makeXmlEdition( tv: Vector[TextVersion], wrapped: Boolean, path: String, fn: String ): Unit = {\n",
    "    \n",
    "    val xmlCexStrings: Vector[String] = {\n",
    "        // Do Intros First\n",
    "        val intros: Vector[String] = tv.map( tv => {\n",
    "            processIntro(tv, wrapped)\n",
    "        })\n",
    "    \n",
    "        val mains: Vector[String] = textVec.map( tv => {\n",
    "            processMain(tv, wrapped)\n",
    "        })\n",
    "    \n",
    "        Vector(\"\\n\\n\") ++ intros ++ Vector(\"\\n\\n\") ++ mains\n",
    "    }\n",
    "    \n",
    "    val xmlCexCatalog: Vector[String] = {\n",
    "        val intros: Vector[String] = tv.map( tv => {\n",
    "            processCatalogEntry(tv)\n",
    "        })\n",
    "\n",
    "        s\"\"\"#!ctscatalog\n",
    "urn#citationScheme#groupName#workTitle#versionLabel#exemplarLabel#online#lang\"\"\" +: intros\n",
    "    }    \n",
    "    \n",
    "    // cexTemplateString\n",
    "\n",
    "    val outputCexString: String = {\n",
    "        val vec: Vector[String] = {\n",
    "            Vector(cexTemplateString) ++ xmlCexCatalog ++ xmlCexStrings\n",
    "        }\n",
    "\n",
    "        vec.mkString(\"\\n\")\n",
    "    }\n",
    "\n",
    "    saveString(outputCexString, path, fn)  \n",
    "    \n",
    "}\n",
    "\n",
    "\n",
    "makeXmlEdition( textVec, true, cexPath, cexXmlArchivalFileName)\n",
    "\n",
    "makeXmlEdition( textVec, false, cexPath, cexXmlDisplayFileName)\n",
    "\n"
   ]
  },
  {
   "cell_type": "code",
   "execution_count": null,
   "metadata": {},
   "outputs": [],
   "source": []
  },
  {
   "cell_type": "code",
   "execution_count": null,
   "metadata": {},
   "outputs": [],
   "source": []
  },
  {
   "cell_type": "code",
   "execution_count": null,
   "metadata": {},
   "outputs": [],
   "source": []
  }
 ],
 "metadata": {
  "kernel_info": {
   "name": "scala"
  },
  "kernelspec": {
   "display_name": "Scala",
   "language": "scala",
   "name": "scala"
  },
  "language_info": {
   "codemirror_mode": "text/x-scala",
   "file_extension": ".scala",
   "mimetype": "text/x-scala",
   "name": "scala",
   "nbconvert_exporter": "script",
   "version": "2.12.11"
  },
  "nteract": {
   "version": "0.15.0"
  }
 },
 "nbformat": 4,
 "nbformat_minor": 2
}
